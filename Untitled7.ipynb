{
 "cells": [
  {
   "cell_type": "code",
   "execution_count": 43,
   "metadata": {},
   "outputs": [
    {
     "name": "stdout",
     "output_type": "stream",
     "text": [
      "http://api.openweathermap.org/data/2.5/weather?q=Hanoi&APPID=42b238e3c80d1cd15a5dcc981deed41f\n",
      "http://api.openweathermap.org/data/2.5/weather?q=Hanoi&APPID=42b238e3c80d1cd15a5dcc981deed41f\n"
     ]
    }
   ],
   "source": [
    "key = '42b238e3c80d1cd15a5dcc981deed41f'\n",
    "url = 'http://api.openweathermap.org/data/2.5/weather?q=Hanoi&APPID={}'.format(key)\n",
    "url == 'http://api.openweathermap.org/data/2.5/weather?q=Hungyen&APPID=42b238e3c80d1cd15a5dcc981deed41f'\n",
    "print(url)\n",
    "print('http://api.openweathermap.org/data/2.5/weather?q=Hanoi&APPID=42b238e3c80d1cd15a5dcc981deed41f')"
   ]
  },
  {
   "cell_type": "code",
   "execution_count": 44,
   "metadata": {},
   "outputs": [],
   "source": [
    "import requests\n",
    "from bs4 import BeautifulSoup as BS"
   ]
  },
  {
   "cell_type": "code",
   "execution_count": 78,
   "metadata": {},
   "outputs": [],
   "source": [
    "request = requests.get('http://api.openweathermap.org/data/2.5/weather?q=Hanoi&APPID=42b238e3c80d1cd15a5dcc981deed41f')"
   ]
  },
  {
   "cell_type": "code",
   "execution_count": 79,
   "metadata": {},
   "outputs": [],
   "source": [
    "data = request.json()"
   ]
  },
  {
   "cell_type": "code",
   "execution_count": 83,
   "metadata": {},
   "outputs": [
    {
     "data": {
      "text/plain": [
       "'Hanoi'"
      ]
     },
     "execution_count": 83,
     "metadata": {},
     "output_type": "execute_result"
    }
   ],
   "source": [
    "data['name']"
   ]
  },
  {
   "cell_type": "code",
   "execution_count": 77,
   "metadata": {},
   "outputs": [
    {
     "data": {
      "text/plain": [
       "{'cod': '404', 'message': 'city not found'}"
      ]
     },
     "execution_count": 77,
     "metadata": {},
     "output_type": "execute_result"
    }
   ],
   "source": [
    "data"
   ]
  },
  {
   "cell_type": "code",
   "execution_count": null,
   "metadata": {},
   "outputs": [],
   "source": []
  }
 ],
 "metadata": {
  "kernelspec": {
   "display_name": "projectname",
   "language": "python",
   "name": "projectname"
  },
  "language_info": {
   "codemirror_mode": {
    "name": "ipython",
    "version": 3
   },
   "file_extension": ".py",
   "mimetype": "text/x-python",
   "name": "python",
   "nbconvert_exporter": "python",
   "pygments_lexer": "ipython3",
   "version": "3.5.2"
  }
 },
 "nbformat": 4,
 "nbformat_minor": 2
}
