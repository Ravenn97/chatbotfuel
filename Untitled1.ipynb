{
 "cells": [
  {
   "cell_type": "code",
   "execution_count": null,
   "metadata": {},
   "outputs": [],
   "source": [
    "from selenium import webdriver\n",
    "from selenium.webdriver.common.keys import Keys\n"
   ]
  },
  {
   "cell_type": "code",
   "execution_count": null,
   "metadata": {},
   "outputs": [],
   "source": [
    "browser = webdriver.Chrome('chromedriver')\n"
   ]
  }
 ],
 "metadata": {
  "kernelspec": {
   "display_name": "chat_bot",
   "language": "python",
   "name": "chat_bot"
  }
 },
 "nbformat": 4,
 "nbformat_minor": 2
}
